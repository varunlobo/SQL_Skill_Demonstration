{
 "cells": [
  {
   "cell_type": "markdown",
   "id": "7c1112a2",
   "metadata": {},
   "source": [
    "## Create a new Database in sqlite3, call it mydatabase.db"
   ]
  },
  {
   "cell_type": "code",
   "execution_count": 1,
   "id": "120d6982",
   "metadata": {},
   "outputs": [],
   "source": [
    "import sqlite3\n"
   ]
  },
  {
   "cell_type": "code",
   "execution_count": 2,
   "id": "d227a273",
   "metadata": {},
   "outputs": [],
   "source": [
    "%load_ext sql\n",
    "%sql sqlite:///mydatabase.db"
   ]
  },
  {
   "cell_type": "markdown",
   "id": "ee11b4b3",
   "metadata": {},
   "source": [
    "## Create a new table in the  dB we just created."
   ]
  },
  {
   "cell_type": "code",
   "execution_count": 13,
   "id": "edef9524",
   "metadata": {},
   "outputs": [
    {
     "name": "stdout",
     "output_type": "stream",
     "text": [
      " * sqlite:///mydatabase.db\n",
      "Done.\n",
      "1 rows affected.\n",
      "1 rows affected.\n",
      "1 rows affected.\n",
      "(sqlite3.OperationalError) no such table: exercise_logs\n",
      "[SQL: SELECT * FROM exercise_logs;]\n",
      "(Background on this error at: https://sqlalche.me/e/14/e3q8)\n"
     ]
    }
   ],
   "source": [
    "%%sql\n",
    "\n",
    "CREATE TABLE exercise\n",
    "    (id INTEGER PRIMARY KEY AUTOINCREMENT,\n",
    "    type TEXT,\n",
    "    minutes INTEGER, \n",
    "    calories INTEGER,\n",
    "    heart_rate INTEGER);\n",
    "\n",
    "\n",
    "INSERT INTO exercise(type, minutes, calories, heart_rate) VALUES (\"biking\", 30, 100, 110);\n",
    "INSERT INTO exercise(type, minutes, calories, heart_rate) VALUES (\"biking\", 10, 30, 105);\n",
    "INSERT INTO exercise(type, minutes, calories, heart_rate) VALUES (\"dancing\", 15, 200, 120);\n",
    "\n",
    "SELECT * FROM exercise_logs;"
   ]
  },
  {
   "cell_type": "code",
   "execution_count": 14,
   "id": "d2dec0ba",
   "metadata": {},
   "outputs": [
    {
     "name": "stdout",
     "output_type": "stream",
     "text": [
      " * sqlite:///mydatabase.db\n",
      "Done.\n"
     ]
    },
    {
     "data": {
      "text/html": [
       "<table>\n",
       "    <tr>\n",
       "        <th>id</th>\n",
       "        <th>type</th>\n",
       "        <th>minutes</th>\n",
       "        <th>calories</th>\n",
       "        <th>heart_rate</th>\n",
       "    </tr>\n",
       "    <tr>\n",
       "        <td>1</td>\n",
       "        <td>biking</td>\n",
       "        <td>30</td>\n",
       "        <td>100</td>\n",
       "        <td>110</td>\n",
       "    </tr>\n",
       "    <tr>\n",
       "        <td>2</td>\n",
       "        <td>biking</td>\n",
       "        <td>10</td>\n",
       "        <td>30</td>\n",
       "        <td>105</td>\n",
       "    </tr>\n",
       "    <tr>\n",
       "        <td>3</td>\n",
       "        <td>dancing</td>\n",
       "        <td>15</td>\n",
       "        <td>200</td>\n",
       "        <td>120</td>\n",
       "    </tr>\n",
       "</table>"
      ],
      "text/plain": [
       "[(1, 'biking', 30, 100, 110),\n",
       " (2, 'biking', 10, 30, 105),\n",
       " (3, 'dancing', 15, 200, 120)]"
      ]
     },
     "execution_count": 14,
     "metadata": {},
     "output_type": "execute_result"
    }
   ],
   "source": [
    "%%sql\n",
    "\n",
    "select * from exercise"
   ]
  },
  {
   "cell_type": "markdown",
   "id": "ed7c7b5d",
   "metadata": {},
   "source": [
    "### What activity takes < 30 min and burns > 50 calories ?"
   ]
  },
  {
   "cell_type": "code",
   "execution_count": 16,
   "id": "f0d58ed6",
   "metadata": {},
   "outputs": [
    {
     "name": "stdout",
     "output_type": "stream",
     "text": [
      " * sqlite:///mydatabase.db\n",
      "Done.\n"
     ]
    },
    {
     "data": {
      "text/html": [
       "<table>\n",
       "    <tr>\n",
       "        <th>id</th>\n",
       "        <th>type</th>\n",
       "        <th>minutes</th>\n",
       "        <th>calories</th>\n",
       "        <th>heart_rate</th>\n",
       "    </tr>\n",
       "    <tr>\n",
       "        <td>3</td>\n",
       "        <td>dancing</td>\n",
       "        <td>15</td>\n",
       "        <td>200</td>\n",
       "        <td>120</td>\n",
       "    </tr>\n",
       "</table>"
      ],
      "text/plain": [
       "[(3, 'dancing', 15, 200, 120)]"
      ]
     },
     "execution_count": 16,
     "metadata": {},
     "output_type": "execute_result"
    }
   ],
   "source": [
    "%%sql\n",
    "\n",
    "select * from exercise where minutes<30 and calories>50\n"
   ]
  },
  {
   "cell_type": "markdown",
   "id": "a1cffa35",
   "metadata": {},
   "source": [
    "## Querying IN subqueries"
   ]
  },
  {
   "cell_type": "code",
   "execution_count": 18,
   "id": "b5c6f8a4",
   "metadata": {},
   "outputs": [
    {
     "name": "stdout",
     "output_type": "stream",
     "text": [
      " * sqlite:///mydatabase.db\n",
      "Done.\n",
      "1 rows affected.\n",
      "1 rows affected.\n",
      "1 rows affected.\n",
      "1 rows affected.\n",
      "1 rows affected.\n",
      "1 rows affected.\n",
      "1 rows affected.\n"
     ]
    },
    {
     "data": {
      "text/plain": [
       "[]"
      ]
     },
     "execution_count": 18,
     "metadata": {},
     "output_type": "execute_result"
    }
   ],
   "source": [
    "%%sql\n",
    "\n",
    "CREATE TABLE exercise_logs\n",
    "    (id INTEGER PRIMARY KEY AUTOINCREMENT,\n",
    "    type TEXT,\n",
    "    minutes INTEGER, \n",
    "    calories INTEGER,\n",
    "    heart_rate INTEGER);\n",
    "\n",
    "INSERT INTO exercise_logs(type, minutes, calories, heart_rate) VALUES (\"biking\", 30, 100, 110);\n",
    "INSERT INTO exercise_logs(type, minutes, calories, heart_rate) VALUES (\"biking\", 10, 30, 105);\n",
    "INSERT INTO exercise_logs(type, minutes, calories, heart_rate) VALUES (\"dancing\", 15, 200, 120);\n",
    "INSERT INTO exercise_logs(type, minutes, calories, heart_rate) VALUES (\"tree climbing\", 30, 70, 90);\n",
    "INSERT INTO exercise_logs(type, minutes, calories, heart_rate) VALUES (\"tree climbing\", 25, 72, 80);\n",
    "INSERT INTO exercise_logs(type, minutes, calories, heart_rate) VALUES (\"rowing\", 30, 70, 90);\n",
    "INSERT INTO exercise_logs(type, minutes, calories, heart_rate) VALUES (\"hiking\", 60, 80, 85);"
   ]
  },
  {
   "cell_type": "code",
   "execution_count": 19,
   "id": "74541ab3",
   "metadata": {},
   "outputs": [
    {
     "name": "stdout",
     "output_type": "stream",
     "text": [
      " * sqlite:///mydatabase.db\n",
      "Done.\n"
     ]
    },
    {
     "data": {
      "text/html": [
       "<table>\n",
       "    <tr>\n",
       "        <th>id</th>\n",
       "        <th>type</th>\n",
       "        <th>minutes</th>\n",
       "        <th>calories</th>\n",
       "        <th>heart_rate</th>\n",
       "    </tr>\n",
       "    <tr>\n",
       "        <td>1</td>\n",
       "        <td>biking</td>\n",
       "        <td>30</td>\n",
       "        <td>100</td>\n",
       "        <td>110</td>\n",
       "    </tr>\n",
       "    <tr>\n",
       "        <td>2</td>\n",
       "        <td>biking</td>\n",
       "        <td>10</td>\n",
       "        <td>30</td>\n",
       "        <td>105</td>\n",
       "    </tr>\n",
       "    <tr>\n",
       "        <td>6</td>\n",
       "        <td>rowing</td>\n",
       "        <td>30</td>\n",
       "        <td>70</td>\n",
       "        <td>90</td>\n",
       "    </tr>\n",
       "    <tr>\n",
       "        <td>7</td>\n",
       "        <td>hiking</td>\n",
       "        <td>60</td>\n",
       "        <td>80</td>\n",
       "        <td>85</td>\n",
       "    </tr>\n",
       "</table>"
      ],
      "text/plain": [
       "[(1, 'biking', 30, 100, 110),\n",
       " (2, 'biking', 10, 30, 105),\n",
       " (6, 'rowing', 30, 70, 90),\n",
       " (7, 'hiking', 60, 80, 85)]"
      ]
     },
     "execution_count": 19,
     "metadata": {},
     "output_type": "execute_result"
    }
   ],
   "source": [
    "%%sql\n",
    "\n",
    "select * from exercise_logs\n",
    "where type IN ('biking' , 'rowing' , 'hiking')"
   ]
  },
  {
   "cell_type": "markdown",
   "id": "b810f00e",
   "metadata": {},
   "source": [
    "## Using BETWEEN Operator"
   ]
  },
  {
   "cell_type": "code",
   "execution_count": 30,
   "id": "a615ea04",
   "metadata": {},
   "outputs": [
    {
     "name": "stdout",
     "output_type": "stream",
     "text": [
      " * sqlite:///mydatabase.db\n",
      "Done.\n"
     ]
    },
    {
     "data": {
      "text/html": [
       "<table>\n",
       "    <tr>\n",
       "        <th>id</th>\n",
       "        <th>type</th>\n",
       "        <th>minutes</th>\n",
       "        <th>calories</th>\n",
       "        <th>heart_rate</th>\n",
       "    </tr>\n",
       "    <tr>\n",
       "        <td>1</td>\n",
       "        <td>biking</td>\n",
       "        <td>30</td>\n",
       "        <td>100</td>\n",
       "        <td>110</td>\n",
       "    </tr>\n",
       "    <tr>\n",
       "        <td>4</td>\n",
       "        <td>tree climbing</td>\n",
       "        <td>30</td>\n",
       "        <td>70</td>\n",
       "        <td>90</td>\n",
       "    </tr>\n",
       "    <tr>\n",
       "        <td>5</td>\n",
       "        <td>tree climbing</td>\n",
       "        <td>25</td>\n",
       "        <td>72</td>\n",
       "        <td>80</td>\n",
       "    </tr>\n",
       "    <tr>\n",
       "        <td>6</td>\n",
       "        <td>rowing</td>\n",
       "        <td>30</td>\n",
       "        <td>70</td>\n",
       "        <td>90</td>\n",
       "    </tr>\n",
       "    <tr>\n",
       "        <td>7</td>\n",
       "        <td>hiking</td>\n",
       "        <td>60</td>\n",
       "        <td>80</td>\n",
       "        <td>85</td>\n",
       "    </tr>\n",
       "</table>"
      ],
      "text/plain": [
       "[(1, 'biking', 30, 100, 110),\n",
       " (4, 'tree climbing', 30, 70, 90),\n",
       " (5, 'tree climbing', 25, 72, 80),\n",
       " (6, 'rowing', 30, 70, 90),\n",
       " (7, 'hiking', 60, 80, 85)]"
      ]
     },
     "execution_count": 30,
     "metadata": {},
     "output_type": "execute_result"
    }
   ],
   "source": [
    "%%sql\n",
    "\n",
    "select * from exercise_logs\n",
    "where minutes BETWEEN 20 AND 150"
   ]
  },
  {
   "cell_type": "markdown",
   "id": "7c540089",
   "metadata": {},
   "source": [
    "## Using 'LIKE' operator"
   ]
  },
  {
   "cell_type": "code",
   "execution_count": 26,
   "id": "8f593ae4",
   "metadata": {},
   "outputs": [
    {
     "name": "stdout",
     "output_type": "stream",
     "text": [
      " * sqlite:///mydatabase.db\n",
      "Done.\n"
     ]
    },
    {
     "data": {
      "text/html": [
       "<table>\n",
       "    <tr>\n",
       "        <th>id</th>\n",
       "        <th>type</th>\n",
       "        <th>minutes</th>\n",
       "        <th>calories</th>\n",
       "        <th>heart_rate</th>\n",
       "    </tr>\n",
       "    <tr>\n",
       "        <td>4</td>\n",
       "        <td>tree climbing</td>\n",
       "        <td>30</td>\n",
       "        <td>70</td>\n",
       "        <td>90</td>\n",
       "    </tr>\n",
       "    <tr>\n",
       "        <td>5</td>\n",
       "        <td>tree climbing</td>\n",
       "        <td>25</td>\n",
       "        <td>72</td>\n",
       "        <td>80</td>\n",
       "    </tr>\n",
       "</table>"
      ],
      "text/plain": [
       "[(4, 'tree climbing', 30, 70, 90), (5, 'tree climbing', 25, 72, 80)]"
      ]
     },
     "execution_count": 26,
     "metadata": {},
     "output_type": "execute_result"
    }
   ],
   "source": [
    "%%sql\n",
    "\n",
    "select * from exercise_logs\n",
    "where type LIKE '%clim%'"
   ]
  },
  {
   "cell_type": "markdown",
   "id": "ed50ec6a",
   "metadata": {},
   "source": [
    "## Using Having operator"
   ]
  },
  {
   "cell_type": "code",
   "execution_count": 46,
   "id": "acc13a8b",
   "metadata": {},
   "outputs": [
    {
     "name": "stdout",
     "output_type": "stream",
     "text": [
      " * sqlite:///mydatabase.db\n",
      "Done.\n"
     ]
    },
    {
     "data": {
      "text/html": [
       "<table>\n",
       "    <tr>\n",
       "        <th>type</th>\n",
       "        <th>Count_type</th>\n",
       "    </tr>\n",
       "    <tr>\n",
       "        <td>biking</td>\n",
       "        <td>2</td>\n",
       "    </tr>\n",
       "    <tr>\n",
       "        <td>dancing</td>\n",
       "        <td>1</td>\n",
       "    </tr>\n",
       "    <tr>\n",
       "        <td>hiking</td>\n",
       "        <td>1</td>\n",
       "    </tr>\n",
       "    <tr>\n",
       "        <td>rowing</td>\n",
       "        <td>1</td>\n",
       "    </tr>\n",
       "    <tr>\n",
       "        <td>tree climbing</td>\n",
       "        <td>2</td>\n",
       "    </tr>\n",
       "</table>"
      ],
      "text/plain": [
       "[('biking', 2),\n",
       " ('dancing', 1),\n",
       " ('hiking', 1),\n",
       " ('rowing', 1),\n",
       " ('tree climbing', 2)]"
      ]
     },
     "execution_count": 46,
     "metadata": {},
     "output_type": "execute_result"
    }
   ],
   "source": [
    "%%sql\n",
    "\n",
    "select type, count(type) as Count_type\n",
    "from exercise_logs\n",
    "\n",
    "group by type\n"
   ]
  },
  {
   "cell_type": "markdown",
   "id": "a4a89ee5",
   "metadata": {},
   "source": [
    "# Exercise:\n",
    "### select all the authors who have written more than 1 million words, using GROUP BY and HAVING. Your results table should include the 'author' and their total word count as a 'total_words' column."
   ]
  },
  {
   "cell_type": "code",
   "execution_count": 48,
   "id": "35691d17",
   "metadata": {},
   "outputs": [
    {
     "name": "stdout",
     "output_type": "stream",
     "text": [
      " * sqlite:///mydatabase.db\n",
      "Done.\n",
      "1 rows affected.\n",
      "1 rows affected.\n",
      "1 rows affected.\n",
      "1 rows affected.\n",
      "1 rows affected.\n",
      "1 rows affected.\n",
      "1 rows affected.\n",
      "1 rows affected.\n",
      "1 rows affected.\n",
      "1 rows affected.\n",
      "1 rows affected.\n",
      "1 rows affected.\n",
      "1 rows affected.\n",
      "1 rows affected.\n",
      "1 rows affected.\n"
     ]
    },
    {
     "data": {
      "text/plain": [
       "[]"
      ]
     },
     "execution_count": 48,
     "metadata": {},
     "output_type": "execute_result"
    }
   ],
   "source": [
    "%%sql\n",
    "\n",
    "CREATE TABLE books (\n",
    "    id INTEGER PRIMARY KEY AUTOINCREMENT,\n",
    "    author TEXT,\n",
    "    title TEXT,\n",
    "    words INTEGER);\n",
    "    \n",
    "INSERT INTO books (author, title, words)\n",
    "    VALUES (\"J.K. Rowling\", \"Harry Potter and the Philosopher's Stone\", 79944);\n",
    "INSERT INTO books (author, title, words)\n",
    "    VALUES (\"J.K. Rowling\", \"Harry Potter and the Chamber of Secrets\", 85141);\n",
    "INSERT INTO books (author, title, words)\n",
    "    VALUES (\"J.K. Rowling\", \"Harry Potter and the Prisoner of Azkaban\", 107253);\n",
    "INSERT INTO books (author, title, words)\n",
    "    VALUES (\"J.K. Rowling\", \"Harry Potter and the Goblet of Fire\", 190637);\n",
    "INSERT INTO books (author, title, words)\n",
    "    VALUES (\"J.K. Rowling\", \"Harry Potter and the Order of the Phoenix\", 257045);\n",
    "INSERT INTO books (author, title, words)\n",
    "    VALUES (\"J.K. Rowling\", \"Harry Potter and the Half-Blood Prince\", 168923);\n",
    "INSERT INTO books (author, title, words)\n",
    "    VALUES (\"J.K. Rowling\", \"Harry Potter and the Deathly Hallows\", 197651);\n",
    "\n",
    "INSERT INTO books (author, title, words)\n",
    "    VALUES (\"Stephenie Meyer\", \"Twilight\", 118501);\n",
    "INSERT INTO books (author, title, words)\n",
    "    VALUES (\"Stephenie Meyer\", \"New Moon\", 132807);\n",
    "INSERT INTO books (author, title, words)\n",
    "    VALUES (\"Stephenie Meyer\", \"Eclipse\", 147930);\n",
    "INSERT INTO books (author, title, words)\n",
    "    VALUES (\"Stephenie Meyer\", \"Breaking Dawn\", 192196);\n",
    "    \n",
    "INSERT INTO books (author, title, words)\n",
    "    VALUES (\"J.R.R. Tolkien\", \"The Hobbit\", 95022);\n",
    "INSERT INTO books (author, title, words)\n",
    "    VALUES (\"J.R.R. Tolkien\", \"Fellowship of the Ring\", 177227);\n",
    "INSERT INTO books (author, title, words)\n",
    "    VALUES (\"J.R.R. Tolkien\", \"Two Towers\", 143436);\n",
    "INSERT INTO books (author, title, words)\n",
    "    VALUES (\"J.R.R. Tolkien\", \"Return of the King\", 134462);\n",
    " \n"
   ]
  },
  {
   "cell_type": "code",
   "execution_count": 51,
   "id": "0dfcd089",
   "metadata": {},
   "outputs": [
    {
     "name": "stdout",
     "output_type": "stream",
     "text": [
      " * sqlite:///mydatabase.db\n",
      "Done.\n"
     ]
    },
    {
     "data": {
      "text/html": [
       "<table>\n",
       "    <tr>\n",
       "        <th>id</th>\n",
       "        <th>author</th>\n",
       "        <th>title</th>\n",
       "        <th>words</th>\n",
       "    </tr>\n",
       "    <tr>\n",
       "        <td>1</td>\n",
       "        <td>J.K. Rowling</td>\n",
       "        <td>Harry Potter and the Philosopher&#x27;s Stone</td>\n",
       "        <td>79944</td>\n",
       "    </tr>\n",
       "    <tr>\n",
       "        <td>2</td>\n",
       "        <td>J.K. Rowling</td>\n",
       "        <td>Harry Potter and the Chamber of Secrets</td>\n",
       "        <td>85141</td>\n",
       "    </tr>\n",
       "    <tr>\n",
       "        <td>3</td>\n",
       "        <td>J.K. Rowling</td>\n",
       "        <td>Harry Potter and the Prisoner of Azkaban</td>\n",
       "        <td>107253</td>\n",
       "    </tr>\n",
       "    <tr>\n",
       "        <td>4</td>\n",
       "        <td>J.K. Rowling</td>\n",
       "        <td>Harry Potter and the Goblet of Fire</td>\n",
       "        <td>190637</td>\n",
       "    </tr>\n",
       "    <tr>\n",
       "        <td>5</td>\n",
       "        <td>J.K. Rowling</td>\n",
       "        <td>Harry Potter and the Order of the Phoenix</td>\n",
       "        <td>257045</td>\n",
       "    </tr>\n",
       "</table>"
      ],
      "text/plain": [
       "[(1, 'J.K. Rowling', \"Harry Potter and the Philosopher's Stone\", 79944),\n",
       " (2, 'J.K. Rowling', 'Harry Potter and the Chamber of Secrets', 85141),\n",
       " (3, 'J.K. Rowling', 'Harry Potter and the Prisoner of Azkaban', 107253),\n",
       " (4, 'J.K. Rowling', 'Harry Potter and the Goblet of Fire', 190637),\n",
       " (5, 'J.K. Rowling', 'Harry Potter and the Order of the Phoenix', 257045)]"
      ]
     },
     "execution_count": 51,
     "metadata": {},
     "output_type": "execute_result"
    }
   ],
   "source": [
    "%%sql\n",
    "\n",
    "select * from books\n",
    "limit 5"
   ]
  },
  {
   "cell_type": "code",
   "execution_count": 54,
   "id": "de18e57c",
   "metadata": {},
   "outputs": [
    {
     "name": "stdout",
     "output_type": "stream",
     "text": [
      " * sqlite:///mydatabase.db\n",
      "Done.\n"
     ]
    },
    {
     "data": {
      "text/html": [
       "<table>\n",
       "    <tr>\n",
       "        <th>author</th>\n",
       "        <th>total_words</th>\n",
       "    </tr>\n",
       "    <tr>\n",
       "        <td>J.K. Rowling</td>\n",
       "        <td>1086594</td>\n",
       "    </tr>\n",
       "</table>"
      ],
      "text/plain": [
       "[('J.K. Rowling', 1086594)]"
      ]
     },
     "execution_count": 54,
     "metadata": {},
     "output_type": "execute_result"
    }
   ],
   "source": [
    "%%sql\n",
    "\n",
    "select author, sum(words) as total_words\n",
    "from books\n",
    "group by author\n",
    "Having total_words > 1000000"
   ]
  },
  {
   "cell_type": "markdown",
   "id": "4afc2077",
   "metadata": {},
   "source": [
    "# Exercise:\n",
    "### Select all the books with the name 'potter' in it."
   ]
  },
  {
   "cell_type": "code",
   "execution_count": 60,
   "id": "06eba39d",
   "metadata": {},
   "outputs": [
    {
     "name": "stdout",
     "output_type": "stream",
     "text": [
      " * sqlite:///mydatabase.db\n",
      "Done.\n"
     ]
    },
    {
     "data": {
      "text/html": [
       "<table>\n",
       "    <tr>\n",
       "        <th>author</th>\n",
       "        <th>title</th>\n",
       "    </tr>\n",
       "    <tr>\n",
       "        <td>J.K. Rowling</td>\n",
       "        <td>Harry Potter and the Philosopher&#x27;s Stone</td>\n",
       "    </tr>\n",
       "    <tr>\n",
       "        <td>J.K. Rowling</td>\n",
       "        <td>Harry Potter and the Chamber of Secrets</td>\n",
       "    </tr>\n",
       "    <tr>\n",
       "        <td>J.K. Rowling</td>\n",
       "        <td>Harry Potter and the Prisoner of Azkaban</td>\n",
       "    </tr>\n",
       "    <tr>\n",
       "        <td>J.K. Rowling</td>\n",
       "        <td>Harry Potter and the Goblet of Fire</td>\n",
       "    </tr>\n",
       "    <tr>\n",
       "        <td>J.K. Rowling</td>\n",
       "        <td>Harry Potter and the Order of the Phoenix</td>\n",
       "    </tr>\n",
       "    <tr>\n",
       "        <td>J.K. Rowling</td>\n",
       "        <td>Harry Potter and the Half-Blood Prince</td>\n",
       "    </tr>\n",
       "    <tr>\n",
       "        <td>J.K. Rowling</td>\n",
       "        <td>Harry Potter and the Deathly Hallows</td>\n",
       "    </tr>\n",
       "</table>"
      ],
      "text/plain": [
       "[('J.K. Rowling', \"Harry Potter and the Philosopher's Stone\"),\n",
       " ('J.K. Rowling', 'Harry Potter and the Chamber of Secrets'),\n",
       " ('J.K. Rowling', 'Harry Potter and the Prisoner of Azkaban'),\n",
       " ('J.K. Rowling', 'Harry Potter and the Goblet of Fire'),\n",
       " ('J.K. Rowling', 'Harry Potter and the Order of the Phoenix'),\n",
       " ('J.K. Rowling', 'Harry Potter and the Half-Blood Prince'),\n",
       " ('J.K. Rowling', 'Harry Potter and the Deathly Hallows')]"
      ]
     },
     "execution_count": 60,
     "metadata": {},
     "output_type": "execute_result"
    }
   ],
   "source": [
    "%%sql\n",
    "\n",
    "select author, title from books\n",
    "\n",
    "Where title like '%otter%'"
   ]
  },
  {
   "cell_type": "markdown",
   "id": "42eacff7",
   "metadata": {},
   "source": [
    "## Challenge: using the table below, display the count of how many students got grades A(>90), B(>80), C(>70) and F(<70)."
   ]
  },
  {
   "cell_type": "code",
   "execution_count": 61,
   "id": "cc47bafd",
   "metadata": {},
   "outputs": [
    {
     "name": "stdout",
     "output_type": "stream",
     "text": [
      " * sqlite:///mydatabase.db\n",
      "Done.\n",
      "1 rows affected.\n",
      "1 rows affected.\n",
      "1 rows affected.\n",
      "1 rows affected.\n",
      "1 rows affected.\n",
      "1 rows affected.\n",
      "Done.\n"
     ]
    },
    {
     "data": {
      "text/html": [
       "<table>\n",
       "    <tr>\n",
       "        <th>name</th>\n",
       "        <th>number_grade</th>\n",
       "        <th>percent_completed</th>\n",
       "    </tr>\n",
       "    <tr>\n",
       "        <td>Winston</td>\n",
       "        <td>90</td>\n",
       "        <td>81.0</td>\n",
       "    </tr>\n",
       "    <tr>\n",
       "        <td>Winnefer</td>\n",
       "        <td>95</td>\n",
       "        <td>90.0</td>\n",
       "    </tr>\n",
       "    <tr>\n",
       "        <td>Winsteen</td>\n",
       "        <td>85</td>\n",
       "        <td>91.0</td>\n",
       "    </tr>\n",
       "    <tr>\n",
       "        <td>Wincifer</td>\n",
       "        <td>66</td>\n",
       "        <td>71.0</td>\n",
       "    </tr>\n",
       "    <tr>\n",
       "        <td>Winster</td>\n",
       "        <td>76</td>\n",
       "        <td>50.0</td>\n",
       "    </tr>\n",
       "    <tr>\n",
       "        <td>Winstonia</td>\n",
       "        <td>82</td>\n",
       "        <td>90.0</td>\n",
       "    </tr>\n",
       "</table>"
      ],
      "text/plain": [
       "[('Winston', 90, 81.0),\n",
       " ('Winnefer', 95, 90.0),\n",
       " ('Winsteen', 85, 91.0),\n",
       " ('Wincifer', 66, 71.0),\n",
       " ('Winster', 76, 50.0),\n",
       " ('Winstonia', 82, 90.0)]"
      ]
     },
     "execution_count": 61,
     "metadata": {},
     "output_type": "execute_result"
    }
   ],
   "source": [
    "%%sql\n",
    "\n",
    "CREATE TABLE student_grades (\n",
    "    id INTEGER PRIMARY KEY AUTOINCREMENT,\n",
    "    name TEXT,\n",
    "    number_grade INTEGER,\n",
    "    fraction_completed REAL);\n",
    "    \n",
    "INSERT INTO student_grades (name, number_grade, fraction_completed)\n",
    "    VALUES (\"Winston\", 90, 0.805);\n",
    "INSERT INTO student_grades (name, number_grade, fraction_completed)\n",
    "    VALUES (\"Winnefer\", 95, 0.901);\n",
    "INSERT INTO student_grades (name, number_grade, fraction_completed)\n",
    "    VALUES (\"Winsteen\", 85, 0.906);\n",
    "INSERT INTO student_grades (name, number_grade, fraction_completed)\n",
    "    VALUES (\"Wincifer\", 66, 0.7054);\n",
    "INSERT INTO student_grades (name, number_grade, fraction_completed)\n",
    "    VALUES (\"Winster\", 76, 0.5013);\n",
    "INSERT INTO student_grades (name, number_grade, fraction_completed)\n",
    "    VALUES (\"Winstonia\", 82, 0.9045);\n",
    "    \n"
   ]
  },
  {
   "cell_type": "code",
   "execution_count": 71,
   "id": "e3d7b70f",
   "metadata": {},
   "outputs": [
    {
     "name": "stdout",
     "output_type": "stream",
     "text": [
      " * sqlite:///mydatabase.db\n",
      "Done.\n"
     ]
    },
    {
     "data": {
      "text/html": [
       "<table>\n",
       "    <tr>\n",
       "        <th>count(*)</th>\n",
       "        <th>Grades</th>\n",
       "    </tr>\n",
       "    <tr>\n",
       "        <td>3</td>\n",
       "        <td>A</td>\n",
       "    </tr>\n",
       "    <tr>\n",
       "        <td>1</td>\n",
       "        <td>B</td>\n",
       "    </tr>\n",
       "    <tr>\n",
       "        <td>1</td>\n",
       "        <td>C</td>\n",
       "    </tr>\n",
       "    <tr>\n",
       "        <td>1</td>\n",
       "        <td>F</td>\n",
       "    </tr>\n",
       "</table>"
      ],
      "text/plain": [
       "[(3, 'A'), (1, 'B'), (1, 'C'), (1, 'F')]"
      ]
     },
     "execution_count": 71,
     "metadata": {},
     "output_type": "execute_result"
    }
   ],
   "source": [
    "%%sql\n",
    "Select count(*),\n",
    "CASE \n",
    "WHEN fraction_completed > 0.90 THEN 'A'\n",
    "WHEN fraction_completed > 0.80 AND fraction_completed < 0.90 THEN 'B'\n",
    "WHEN fraction_completed > 0.70 AND fraction_completed < 0.80 THEN 'C'\n",
    "ELSE 'F' END as Grades\n",
    "\n",
    "from student_grades\n",
    "\n",
    "Group by Grades"
   ]
  },
  {
   "cell_type": "markdown",
   "id": "b427d1b5",
   "metadata": {},
   "source": [
    "## Demonstrate the use of joins on the table provided"
   ]
  },
  {
   "cell_type": "code",
   "execution_count": 76,
   "id": "c5d8406f",
   "metadata": {},
   "outputs": [
    {
     "name": "stdout",
     "output_type": "stream",
     "text": [
      " * sqlite:///mydatabase.db\n",
      "Done.\n",
      "1 rows affected.\n",
      "1 rows affected.\n",
      "1 rows affected.\n",
      "1 rows affected.\n",
      "1 rows affected.\n",
      "Done.\n",
      "1 rows affected.\n",
      "1 rows affected.\n",
      "1 rows affected.\n",
      "1 rows affected.\n",
      "1 rows affected.\n",
      "1 rows affected.\n",
      "1 rows affected.\n",
      "1 rows affected.\n",
      "1 rows affected.\n",
      "1 rows affected.\n"
     ]
    },
    {
     "data": {
      "text/plain": [
       "[]"
      ]
     },
     "execution_count": 76,
     "metadata": {},
     "output_type": "execute_result"
    }
   ],
   "source": [
    "\n",
    "\n",
    "%%sql\n",
    "\n",
    "CREATE TABLE persons (\n",
    "    id INTEGER PRIMARY KEY AUTOINCREMENT,\n",
    "    name TEXT,\n",
    "    age INTEGER);\n",
    "    \n",
    "INSERT INTO persons (name, age) VALUES (\"Bobby McBobbyFace\", 12);\n",
    "INSERT INTO persons (name, age) VALUES (\"Lucy BoBucie\", 25);\n",
    "INSERT INTO persons (name, age) VALUES (\"Banana FoFanna\", 14);\n",
    "INSERT INTO persons (name, age) VALUES (\"Shish Kabob\", 20);\n",
    "INSERT INTO persons (name, age) VALUES (\"Fluffy Sparkles\", 8);\n",
    "\n",
    "CREATE table hobbies (\n",
    "    id INTEGER PRIMARY KEY AUTOINCREMENT,\n",
    "    person_id INTEGER,\n",
    "    name TEXT);\n",
    "    \n",
    "INSERT INTO hobbies (person_id, name) VALUES (1, \"drawing\");\n",
    "INSERT INTO hobbies (person_id, name) VALUES (1, \"coding\");\n",
    "INSERT INTO hobbies (person_id, name) VALUES (2, \"dancing\");\n",
    "INSERT INTO hobbies (person_id, name) VALUES (2, \"coding\");\n",
    "INSERT INTO hobbies (person_id, name) VALUES (3, \"skating\");\n",
    "INSERT INTO hobbies (person_id, name) VALUES (3, \"rowing\");\n",
    "INSERT INTO hobbies (person_id, name) VALUES (3, \"drawing\");\n",
    "INSERT INTO hobbies (person_id, name) VALUES (4, \"coding\");\n",
    "INSERT INTO hobbies (person_id, name) VALUES (4, \"dilly-dallying\");\n",
    "INSERT INTO hobbies (person_id, name) VALUES (4, \"meowing\");"
   ]
  },
  {
   "cell_type": "code",
   "execution_count": 81,
   "id": "f830325a",
   "metadata": {},
   "outputs": [
    {
     "name": "stdout",
     "output_type": "stream",
     "text": [
      " * sqlite:///mydatabase.db\n",
      "Done.\n"
     ]
    },
    {
     "data": {
      "text/html": [
       "<table>\n",
       "    <tr>\n",
       "        <th>name</th>\n",
       "        <th>age</th>\n",
       "        <th>Hobbies</th>\n",
       "    </tr>\n",
       "    <tr>\n",
       "        <td>Bobby McBobbyFace</td>\n",
       "        <td>12</td>\n",
       "        <td>coding</td>\n",
       "    </tr>\n",
       "    <tr>\n",
       "        <td>Bobby McBobbyFace</td>\n",
       "        <td>12</td>\n",
       "        <td>drawing</td>\n",
       "    </tr>\n",
       "    <tr>\n",
       "        <td>Lucy BoBucie</td>\n",
       "        <td>25</td>\n",
       "        <td>coding</td>\n",
       "    </tr>\n",
       "    <tr>\n",
       "        <td>Lucy BoBucie</td>\n",
       "        <td>25</td>\n",
       "        <td>dancing</td>\n",
       "    </tr>\n",
       "    <tr>\n",
       "        <td>Banana FoFanna</td>\n",
       "        <td>14</td>\n",
       "        <td>drawing</td>\n",
       "    </tr>\n",
       "    <tr>\n",
       "        <td>Banana FoFanna</td>\n",
       "        <td>14</td>\n",
       "        <td>rowing</td>\n",
       "    </tr>\n",
       "    <tr>\n",
       "        <td>Banana FoFanna</td>\n",
       "        <td>14</td>\n",
       "        <td>skating</td>\n",
       "    </tr>\n",
       "    <tr>\n",
       "        <td>Shish Kabob</td>\n",
       "        <td>20</td>\n",
       "        <td>coding</td>\n",
       "    </tr>\n",
       "    <tr>\n",
       "        <td>Shish Kabob</td>\n",
       "        <td>20</td>\n",
       "        <td>dilly-dallying</td>\n",
       "    </tr>\n",
       "    <tr>\n",
       "        <td>Shish Kabob</td>\n",
       "        <td>20</td>\n",
       "        <td>meowing</td>\n",
       "    </tr>\n",
       "    <tr>\n",
       "        <td>Fluffy Sparkles</td>\n",
       "        <td>8</td>\n",
       "        <td>None</td>\n",
       "    </tr>\n",
       "</table>"
      ],
      "text/plain": [
       "[('Bobby McBobbyFace', 12, 'coding'),\n",
       " ('Bobby McBobbyFace', 12, 'drawing'),\n",
       " ('Lucy BoBucie', 25, 'coding'),\n",
       " ('Lucy BoBucie', 25, 'dancing'),\n",
       " ('Banana FoFanna', 14, 'drawing'),\n",
       " ('Banana FoFanna', 14, 'rowing'),\n",
       " ('Banana FoFanna', 14, 'skating'),\n",
       " ('Shish Kabob', 20, 'coding'),\n",
       " ('Shish Kabob', 20, 'dilly-dallying'),\n",
       " ('Shish Kabob', 20, 'meowing'),\n",
       " ('Fluffy Sparkles', 8, None)]"
      ]
     },
     "execution_count": 81,
     "metadata": {},
     "output_type": "execute_result"
    }
   ],
   "source": [
    "%%sql\n",
    "select p.name, p.age, h.name as Hobbies\n",
    "from persons as p\n",
    "LEFT JOIN hobbies as h\n",
    "ON p.id = h.person_id"
   ]
  },
  {
   "cell_type": "markdown",
   "id": "324e7115",
   "metadata": {},
   "source": [
    "## In this notebook we have successfully demonstrated various logical operators (LIKE, AND, OR, =, <,>) along with aggregate functions like sum, max, min,avg along with group by , order by.\n",
    "\n",
    "## we have also explored the use of CASE statements, various JOINS and UNION using SQL queries."
   ]
  },
  {
   "cell_type": "code",
   "execution_count": null,
   "id": "867150d9",
   "metadata": {},
   "outputs": [],
   "source": []
  }
 ],
 "metadata": {
  "kernelspec": {
   "display_name": "Python 3 (ipykernel)",
   "language": "python",
   "name": "python3"
  },
  "language_info": {
   "codemirror_mode": {
    "name": "ipython",
    "version": 3
   },
   "file_extension": ".py",
   "mimetype": "text/x-python",
   "name": "python",
   "nbconvert_exporter": "python",
   "pygments_lexer": "ipython3",
   "version": "3.9.12"
  }
 },
 "nbformat": 4,
 "nbformat_minor": 5
}
